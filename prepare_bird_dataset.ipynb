{
 "cells": [
  {
   "cell_type": "markdown",
   "metadata": {},
   "source": [
    "Importing libraries and defying paths for folders."
   ]
  },
  {
   "cell_type": "code",
   "execution_count": 13,
   "metadata": {},
   "outputs": [],
   "source": [
    "import os\n",
    "import shutil\n",
    "import imghdr"
   ]
  },
  {
   "cell_type": "code",
   "execution_count": 14,
   "metadata": {},
   "outputs": [],
   "source": [
    "train_src = 'train_sub'\n",
    "test_src = 'test_sub'\n",
    "train_target = 'train'\n",
    "test_target = 'test'\n"
   ]
  },
  {
   "cell_type": "markdown",
   "metadata": {},
   "source": [
    "Choosing only 'jpeg' type images for train data"
   ]
  },
  {
   "cell_type": "code",
   "execution_count": null,
   "metadata": {},
   "outputs": [],
   "source": [
    "for image_class in os.listdir(train_src):\n",
    "    for image in os.listdir(os.path.join(train_src, image_class)):\n",
    "      image_path = os.path.join(train_src, image_class, image)\n",
    "      image_type = imghdr.what(image_path)\n",
    "      if image_type != \"jpeg\":\n",
    "        os.remove(image_path)"
   ]
  },
  {
   "cell_type": "markdown",
   "metadata": {},
   "source": [
    "Choosing only 'jpeg' type images for train data"
   ]
  },
  {
   "cell_type": "code",
   "execution_count": null,
   "metadata": {},
   "outputs": [],
   "source": [
    "for image_class in os.listdir(test_src):\n",
    "    for image in os.listdir(os.path.join(test_src, image_class)):\n",
    "      image_path = os.path.join(test_src, image_class, image)\n",
    "      image_type = imghdr.what(image_path)\n",
    "      if image_type != \"jpeg\":\n",
    "        os.remove(image_path)"
   ]
  },
  {
   "cell_type": "markdown",
   "metadata": {},
   "source": [
    "Bird dataset is bulid in a way that in species folders files are named \"1.jpg\", \"2.jpg\" ... so when choosing part of photos from particular species names would duplicate many times. To prevent from that I am renaming images by their species name and number."
   ]
  },
  {
   "cell_type": "code",
   "execution_count": 15,
   "metadata": {},
   "outputs": [],
   "source": [
    "for bird_class in os.listdir(train_src):\n",
    "    for image in os.listdir(os.path.join(train_src, bird_class)):\n",
    "        path_old = os.path.join(train_src, bird_class, image)\n",
    "        path_new = os.path.join(train_src, bird_class, bird_class + image)\n",
    "        os.rename(path_old, path_new)"
   ]
  },
  {
   "cell_type": "markdown",
   "metadata": {},
   "source": [
    "Same algorithm for test dataset."
   ]
  },
  {
   "cell_type": "code",
   "execution_count": 17,
   "metadata": {},
   "outputs": [],
   "source": [
    "for bird_class in os.listdir(test_src):\n",
    "    for image in os.listdir(os.path.join(test_src, bird_class)):\n",
    "        path_old = os.path.join(test_src, bird_class, image)\n",
    "        path_new = os.path.join(test_src, bird_class, bird_class + image)\n",
    "        os.rename(path_old, path_new)"
   ]
  },
  {
   "cell_type": "markdown",
   "metadata": {},
   "source": [
    "Choosing 14 images from folder on a species level (14 is an amount that gives size similar to plane train dataset)"
   ]
  },
  {
   "cell_type": "code",
   "execution_count": 19,
   "metadata": {},
   "outputs": [],
   "source": [
    "for bird_class in os.listdir(train_src):\n",
    "    list = os.listdir(os.path.join(train_src, bird_class))\n",
    "    for i in range (0, 14):\n",
    "        path_old = os.path.join(train_src, bird_class, list[i])\n",
    "        path_new = os.path.join(train_target)\n",
    "        shutil.move(path_old, path_new)"
   ]
  },
  {
   "cell_type": "markdown",
   "metadata": {},
   "source": [
    "Choosing 4 images from folder on a species level (4 is an amount that gives size similar to plane train dataset)"
   ]
  },
  {
   "cell_type": "code",
   "execution_count": 21,
   "metadata": {},
   "outputs": [],
   "source": [
    "for bird_class in os.listdir(test_src):\n",
    "    list = os.listdir(os.path.join(test_src, bird_class))\n",
    "    for i in range (0, 4):\n",
    "        path_old = os.path.join(test_src, bird_class, list[i])\n",
    "        path_new = os.path.join(test_target)\n",
    "        shutil.move(path_old, path_new)"
   ]
  }
 ],
 "metadata": {
  "kernelspec": {
   "display_name": "Python 3",
   "language": "python",
   "name": "python3"
  },
  "language_info": {
   "codemirror_mode": {
    "name": "ipython",
    "version": 3
   },
   "file_extension": ".py",
   "mimetype": "text/x-python",
   "name": "python",
   "nbconvert_exporter": "python",
   "pygments_lexer": "ipython3",
   "version": "3.10.0"
  },
  "orig_nbformat": 4
 },
 "nbformat": 4,
 "nbformat_minor": 2
}
